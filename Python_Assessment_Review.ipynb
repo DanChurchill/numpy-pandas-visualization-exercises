{
 "cells": [
  {
   "cell_type": "markdown",
   "id": "314f3d01-08ab-4c6b-b0be-7e1f380d03f6",
   "metadata": {},
   "source": [
    "## Python + Pandas Assessment Review"
   ]
  },
  {
   "cell_type": "markdown",
   "id": "127e90e2-4b5f-42d2-a9cc-8dcdfef3f74b",
   "metadata": {},
   "source": [
    "#### We will be working with the following information defined in the cell below."
   ]
  },
  {
   "cell_type": "code",
   "execution_count": 1,
   "id": "3496f5db-06e9-47e6-b3b3-414f4ede5838",
   "metadata": {},
   "outputs": [],
   "source": [
    "students = [\n",
    "    {'exam_score': 67.5743737055, 'hours_studied': 8.4786921255, 'used_flashcards': True,  'handedness': 'left',  'coffee_consumed': 4,  'hours_slept': 7},\n",
    "    {'exam_score': 59.0983982874, 'hours_studied': 5.7737531404, 'used_flashcards': True,  'handedness': 'right', 'coffee_consumed': 5,  'hours_slept': 6},\n",
    "    {'exam_score': 40.2353236205, 'hours_studied': 4.2802273056, 'used_flashcards': True,  'handedness': 'left',  'coffee_consumed': 6,  'hours_slept': 5},\n",
    "    {'exam_score': 68.5728466901, 'hours_studied': 8.2049689336, 'used_flashcards': False, 'handedness': 'right', 'coffee_consumed': 4,  'hours_slept': 7},\n",
    "    {'exam_score': 78.8909132563, 'hours_studied': 8.8873825943, 'used_flashcards': False, 'handedness': 'right', 'coffee_consumed': 3,  'hours_slept': 8},\n",
    "    {'exam_score': 99.6285927929, 'hours_studied': 5.8875768158, 'used_flashcards': True,  'handedness': 'left',  'coffee_consumed': 1,  'hours_slept': 10},\n",
    "    {'exam_score': 71.5376019923, 'hours_studied': 8.6755289037, 'used_flashcards': True,  'handedness': 'right', 'coffee_consumed': 3,  'hours_slept': 8},\n",
    "    {'exam_score': 91.209319196,  'hours_studied': 7.7949349686, 'used_flashcards': True,  'handedness': 'left',  'coffee_consumed': 1,  'hours_slept': 10},\n",
    "    {'exam_score': 95.637085652,  'hours_studied': 9.6774379788, 'used_flashcards': False, 'handedness': 'left',  'coffee_consumed': 1,  'hours_slept': 10},\n",
    "    {'exam_score': 7.3505796632,  'hours_studied': 1.8010865962, 'used_flashcards': True,  'handedness': 'right', 'coffee_consumed': 10, 'hours_slept': 1},\n",
    "    {'exam_score': 100.0,         'hours_studied': 9.1262910299, 'used_flashcards': False, 'handedness': 'left',  'coffee_consumed': 0,  'hours_slept': 11},\n",
    "    {'exam_score': 73.1646225026, 'hours_studied': 5.8875512702, 'used_flashcards': True,  'handedness': 'right', 'coffee_consumed': 3,  'hours_slept': 8},\n",
    "    {'exam_score': 1.697188914,   'hours_studied': 0.8023294541, 'used_flashcards': False, 'handedness': 'right', 'coffee_consumed': 10, 'hours_slept': 1},\n",
    "    {'exam_score': 48.3173646693, 'hours_studied': 3.6138789305, 'used_flashcards': False, 'handedness': 'left',  'coffee_consumed': 6,  'hours_slept': 5},\n",
    "    {'exam_score': 57.0423484485, 'hours_studied': 5.9414471409, 'used_flashcards': True,  'handedness': 'right', 'coffee_consumed': 5,  'hours_slept': 6},\n",
    "    {'exam_score': 65.7118765165, 'hours_studied': 4.6605301,    'used_flashcards': False, 'handedness': 'right', 'coffee_consumed': 4,  'hours_slept': 7},\n",
    "    {'exam_score': 63.934268264,  'hours_studied': 6.4878477492, 'used_flashcards': True,  'handedness': 'right', 'coffee_consumed': 4,  'hours_slept': 7},\n",
    "    {'exam_score': 100.0,         'hours_studied': 8.1237310876, 'used_flashcards': False, 'handedness': 'right', 'coffee_consumed': 0,  'hours_slept': 11},\n",
    "    {'exam_score': 35.7436570401, 'hours_studied': 3.1974628076, 'used_flashcards': False, 'handedness': 'right', 'coffee_consumed': 7,  'hours_slept': 4},\n",
    "    {'exam_score': 53.2002957528, 'hours_studied': 4.5502066553, 'used_flashcards': True,  'handedness': 'right', 'coffee_consumed': 5,  'hours_slept': 6}\n",
    "]"
   ]
  },
  {
   "cell_type": "markdown",
   "id": "396565be-5b9a-4404-a9f7-4714a9f384c8",
   "metadata": {},
   "source": [
    "# Phase 1: Python *without* Pandas.  Do the following without Pandas."
   ]
  },
  {
   "cell_type": "markdown",
   "id": "982780cb-6f15-4dbb-884c-2c902d13c10d",
   "metadata": {},
   "source": [
    "#### 1. Examine students.\n",
    " -  What data type is students? Use Python to verify.\n",
    " -  Describe the contents of the variable students.  How do you know this? Do you feel this is a useful data format? Why or Why Not?"
   ]
  },
  {
   "cell_type": "code",
   "execution_count": 185,
   "id": "83b29308",
   "metadata": {},
   "outputs": [
    {
     "name": "stdout",
     "output_type": "stream",
     "text": [
      "<class 'list'>\n",
      "<class 'dict'>\n"
     ]
    }
   ],
   "source": [
    "print(type(students))\n",
    "print(type(students[0]))"
   ]
  },
  {
   "cell_type": "code",
   "execution_count": 22,
   "id": "83d7bfbf-34a7-4a69-9c07-bd91f00db745",
   "metadata": {},
   "outputs": [
    {
     "data": {
      "text/plain": [
       "'\\n'"
      ]
     },
     "execution_count": 22,
     "metadata": {},
     "output_type": "execute_result"
    }
   ],
   "source": [
    "# Write your response here:\n",
    "'''\n",
    "type(students) tells us that students is a list\n",
    "type(students[0]) tells us that the list contains dictionaries\n",
    "\n",
    "a list of dictionaries with information about individual students is usefull because we can easily iterate the \n",
    "list to get information about the students\n",
    "'''"
   ]
  },
  {
   "cell_type": "markdown",
   "id": "23c51c96-1b4b-47da-a20d-dddcbd243793",
   "metadata": {},
   "source": [
    "-  Write a function called `get_max_hours_studied` that takes in a list of dictionaries like students and returns the value of the maximum hours studied within the data set"
   ]
  },
  {
   "cell_type": "code",
   "execution_count": 20,
   "id": "d38cd9a2-12dc-41e8-9ee7-565fc2b1d3a5",
   "metadata": {},
   "outputs": [],
   "source": [
    "# write your function in this cell.\n",
    "\n",
    "def get_max_hours_studied(list_of_students):    \n",
    "    return max(student['hours_studied'] for student in list_of_students)\n",
    "    \n",
    "        \n"
   ]
  },
  {
   "cell_type": "code",
   "execution_count": 21,
   "id": "7090875e-c72c-4c67-bbf3-ab1db309a6b8",
   "metadata": {},
   "outputs": [],
   "source": [
    "assert(round(get_max_hours_studied(students), 2) == 9.68)"
   ]
  },
  {
   "cell_type": "markdown",
   "id": "3a60eb87-8284-46aa-88c7-6f48c7e17c62",
   "metadata": {},
   "source": [
    "#### Observe the variable student_names defined below.\n",
    " - Write a loop that will traverse students and add a key called 'student_name' to the record, populated with each of the values inside of student names by index order."
   ]
  },
  {
   "cell_type": "code",
   "execution_count": 22,
   "id": "0950e2c3-21ba-44ff-b99d-e8326f0ae4ab",
   "metadata": {},
   "outputs": [],
   "source": [
    "student_names = [\n",
    "    'Jill', \n",
    "    'Mindy',\n",
    "    'Kathy', \n",
    "    'Hussain', \n",
    "    'Priya', \n",
    "    'Jasmine', \n",
    "    'Abdul', \n",
    "    'Ren',\n",
    "    'Lupita',\n",
    "    'Patch',\n",
    "    'Marwan',\n",
    "    'Stacy',\n",
    "    'Sylvia',\n",
    "    'Bo',\n",
    "    'Vivian',\n",
    "    'Connor',\n",
    "    'Hank',\n",
    "    'Rocko',\n",
    "    'Filbert',\n",
    "    'Upton'\n",
    "]"
   ]
  },
  {
   "cell_type": "code",
   "execution_count": 24,
   "id": "f151916e-7d55-4d98-b058-cb57a2d66235",
   "metadata": {},
   "outputs": [],
   "source": [
    "for i in range(len(students)):\n",
    "    students[i]['student_name'] = student_names[i]\n",
    "    "
   ]
  },
  {
   "cell_type": "code",
   "execution_count": 25,
   "id": "a58c42e7-ba68-409d-a237-f47db8a16c7a",
   "metadata": {},
   "outputs": [],
   "source": [
    "assert([student['student_name'] for student in students] == student_names)"
   ]
  },
  {
   "cell_type": "markdown",
   "id": "550b0613-c21e-4424-a5ae-682e1c788a7c",
   "metadata": {},
   "source": [
    " - Write a function called `well_read` that will take in a list of dictionaries as an argument and return the name of the student who has studied the most."
   ]
  },
  {
   "cell_type": "code",
   "execution_count": 39,
   "id": "f79f5470-a4df-4102-a2d9-29484baca0ed",
   "metadata": {},
   "outputs": [],
   "source": [
    "# write your function in this cell:\n",
    "def well_read(list_of_students):\n",
    "    for student in list_of_students:\n",
    "        if student['hours_studied'] == get_max_hours_studied(list_of_students):\n",
    "            return student['student_name']\n",
    "    \n",
    "    \n"
   ]
  },
  {
   "cell_type": "code",
   "execution_count": 47,
   "id": "c0962d71-1ee3-4260-bae8-d9bd5e3cf3c1",
   "metadata": {},
   "outputs": [],
   "source": [
    "# Extra fancy bonus:\n",
    "# re-write well_read as a one-liner using list comprehension\n",
    "def well_read(x):\n",
    "    return [student['student_name'] for student in x if student['hours_studied'] == get_max_hours_studied(x)][0]\n",
    "\n",
    "        "
   ]
  },
  {
   "cell_type": "code",
   "execution_count": 49,
   "id": "caa41c0a-cd28-477b-b871-4c4261007cd3",
   "metadata": {},
   "outputs": [],
   "source": [
    "assert(well_read(students) == 'Lupita')"
   ]
  },
  {
   "cell_type": "markdown",
   "id": "423cb67a-488f-4a59-96fc-90b16b4dacdb",
   "metadata": {},
   "source": [
    " - What proportion of students that passed used flashcards? Store it as a percentage with one decimal place in a variable called `flash_success`\n"
   ]
  },
  {
   "cell_type": "code",
   "execution_count": 186,
   "id": "8e80bd2c-7afb-4b7c-8c96-6638af5cd2c4",
   "metadata": {},
   "outputs": [
    {
     "data": {
      "text/plain": [
       "'50.00'"
      ]
     },
     "execution_count": 186,
     "metadata": {},
     "output_type": "execute_result"
    }
   ],
   "source": [
    "# assign flash_success in this cell.\n",
    "    # get subset of passing students\n",
    "pass_list = [student for student in students if student['exam_score'] >= 60]\n",
    "    # get number of flashcard users in subset and divide by total that passed and multiply by 100\n",
    "flash_success = len([passer for passer in pass_list if passer['used_flashcards']]) / len(pass_list) * 100\n",
    "    # format\n",
    "\"{:.2f}\".format(flash_success)"
   ]
  },
  {
   "cell_type": "code",
   "execution_count": 187,
   "id": "9c813058",
   "metadata": {},
   "outputs": [],
   "source": [
    "assert(flash_success == 50.00)"
   ]
  },
  {
   "cell_type": "markdown",
   "id": "7931edac-fb43-4c01-903e-94d439c29586",
   "metadata": {},
   "source": [
    "#### Alright, time to break out pandas! 🐼"
   ]
  },
  {
   "cell_type": "markdown",
   "id": "4e3498b0-5b8c-49e5-ad11-8520be157023",
   "metadata": {},
   "source": [
    " - Create a dataframe called `student_df` from the students variable that you have at this point."
   ]
  },
  {
   "cell_type": "code",
   "execution_count": 87,
   "id": "b32391e6-2ecc-480c-80a7-e6c792ee9866",
   "metadata": {},
   "outputs": [],
   "source": [
    "# create your DataFrame here.\n",
    "import pandas as pd\n",
    "import numpy as np\n",
    "\n",
    "student_df = pd.DataFrame(students)"
   ]
  },
  {
   "cell_type": "markdown",
   "id": "4d6d3af6-acc9-4b2c-904e-0ab09c845b87",
   "metadata": {},
   "source": [
    " - Make a new column inside of `student_df` called `'classroom'` using the following code.  Keep your numpy random seed to 123."
   ]
  },
  {
   "cell_type": "code",
   "execution_count": 88,
   "id": "3e18873e-5afe-4c86-8406-975d7ec35c51",
   "metadata": {
    "tags": []
   },
   "outputs": [],
   "source": [
    "np.random.seed(123)\n",
    "classrooms = np.random.choice(['A', 'B'], len(student_df))"
   ]
  },
  {
   "cell_type": "code",
   "execution_count": 91,
   "id": "a57dafa9-8c48-4533-be0b-35d64569a36a",
   "metadata": {},
   "outputs": [],
   "source": [
    "# put the value of classrooms into your new column in this cell.\n",
    "student_df['classroom'] = classrooms"
   ]
  },
  {
   "cell_type": "code",
   "execution_count": 92,
   "id": "e8a72e8f-c425-4658-90f1-46b036a4aafd",
   "metadata": {},
   "outputs": [],
   "source": [
    "assert(list(student_df.classroom.values) == list(classrooms))"
   ]
  },
  {
   "cell_type": "markdown",
   "id": "4e520be2-75b8-4fb3-9e55-b312fb60056c",
   "metadata": {},
   "source": [
    " - Create a single groupby aggregation that will output the maximum and minimum exam scores and hours slept for every combination of classroom and handedness."
   ]
  },
  {
   "cell_type": "code",
   "execution_count": 107,
   "id": "dc730fb3-4d05-4549-a4ff-6f4c0bb1c081",
   "metadata": {},
   "outputs": [
    {
     "data": {
      "text/html": [
       "<div>\n",
       "<style scoped>\n",
       "    .dataframe tbody tr th:only-of-type {\n",
       "        vertical-align: middle;\n",
       "    }\n",
       "\n",
       "    .dataframe tbody tr th {\n",
       "        vertical-align: top;\n",
       "    }\n",
       "\n",
       "    .dataframe thead tr th {\n",
       "        text-align: left;\n",
       "    }\n",
       "\n",
       "    .dataframe thead tr:last-of-type th {\n",
       "        text-align: right;\n",
       "    }\n",
       "</style>\n",
       "<table border=\"1\" class=\"dataframe\">\n",
       "  <thead>\n",
       "    <tr>\n",
       "      <th></th>\n",
       "      <th></th>\n",
       "      <th colspan=\"2\" halign=\"left\">exam_score</th>\n",
       "      <th colspan=\"2\" halign=\"left\">hours_slept</th>\n",
       "    </tr>\n",
       "    <tr>\n",
       "      <th></th>\n",
       "      <th></th>\n",
       "      <th>max</th>\n",
       "      <th>min</th>\n",
       "      <th>max</th>\n",
       "      <th>min</th>\n",
       "    </tr>\n",
       "    <tr>\n",
       "      <th>classroom</th>\n",
       "      <th>handedness</th>\n",
       "      <th></th>\n",
       "      <th></th>\n",
       "      <th></th>\n",
       "      <th></th>\n",
       "    </tr>\n",
       "  </thead>\n",
       "  <tbody>\n",
       "    <tr>\n",
       "      <th rowspan=\"2\" valign=\"top\">A</th>\n",
       "      <th>left</th>\n",
       "      <td>99.628593</td>\n",
       "      <td>40.235324</td>\n",
       "      <td>10</td>\n",
       "      <td>5</td>\n",
       "    </tr>\n",
       "    <tr>\n",
       "      <th>right</th>\n",
       "      <td>78.890913</td>\n",
       "      <td>1.697189</td>\n",
       "      <td>8</td>\n",
       "      <td>1</td>\n",
       "    </tr>\n",
       "    <tr>\n",
       "      <th rowspan=\"2\" valign=\"top\">B</th>\n",
       "      <th>left</th>\n",
       "      <td>100.000000</td>\n",
       "      <td>48.317365</td>\n",
       "      <td>11</td>\n",
       "      <td>5</td>\n",
       "    </tr>\n",
       "    <tr>\n",
       "      <th>right</th>\n",
       "      <td>100.000000</td>\n",
       "      <td>35.743657</td>\n",
       "      <td>11</td>\n",
       "      <td>4</td>\n",
       "    </tr>\n",
       "  </tbody>\n",
       "</table>\n",
       "</div>"
      ],
      "text/plain": [
       "                      exam_score            hours_slept    \n",
       "                             max        min         max min\n",
       "classroom handedness                                       \n",
       "A         left         99.628593  40.235324          10   5\n",
       "          right        78.890913   1.697189           8   1\n",
       "B         left        100.000000  48.317365          11   5\n",
       "          right       100.000000  35.743657          11   4"
      ]
     },
     "execution_count": 107,
     "metadata": {},
     "output_type": "execute_result"
    }
   ],
   "source": [
    "# write your aggregation in this cell:\n",
    "student_df.groupby(['classroom', 'handedness']).agg({'exam_score':['max', 'min'], 'hours_slept':['max','min']})\n",
    "\n"
   ]
  },
  {
   "cell_type": "markdown",
   "id": "812fe962-e67a-4820-8c2a-daad90d1ef07",
   "metadata": {},
   "source": [
    " - Write a function called `best_rested_performer` that takes in a DataFrame and returns the name of the student in student_df that has the highest grade, that slept the most.\n",
    " \n",
    "(hint: sort by exam score, then by hours slept, and make sure your function returns a string literal!)"
   ]
  },
  {
   "cell_type": "code",
   "execution_count": 141,
   "id": "81e2b93a-5c67-4e04-a0a9-e4001587e1b4",
   "metadata": {},
   "outputs": [],
   "source": [
    "# write your function in this cell:\n",
    "def best_rested_performer(student_dataframe):\n",
    "    return student_dataframe.sort_values(by=['exam_score', 'hours_slept'], ascending=False).head(1).student_name.values[0]\n"
   ]
  },
  {
   "cell_type": "code",
   "execution_count": 142,
   "id": "4afbe2ba-a23e-4f34-9909-415c482aa702",
   "metadata": {},
   "outputs": [],
   "source": [
    "assert(best_rested_performer(student_df)) == 'Marwan'"
   ]
  },
  {
   "cell_type": "markdown",
   "id": "063ace38-af61-48df-8e52-98c5c24e786a",
   "metadata": {},
   "source": [
    " - Utilize the following dictionary to create a new column called `'room_no'` that tells a student where they should be going."
   ]
  },
  {
   "cell_type": "code",
   "execution_count": 165,
   "id": "3b5d38f7-847a-4b26-896d-ca9f901d1fef",
   "metadata": {},
   "outputs": [],
   "source": [
    "classroom_location = {\n",
    "    'A': 'Humanities Building, Room 204',\n",
    "    'B': 'Business Building, Room 318',\n",
    "    'C': 'Humanities Building, Room 113'\n",
    "}\n",
    "\n",
    "loc_list = student_df['classroom'].values.tolist()  # list of a's or b's\n",
    "room_nos = [classroom_location[room] for room in loc_list] # list of classroom locations\n",
    "student_df['room_no'] = room_nos  # assign list to new column"
   ]
  },
  {
   "cell_type": "markdown",
   "id": "bb004e5f-cf06-4b23-a968-925b84fb69ff",
   "metadata": {},
   "source": [
    " - Write a function called `sleepy_goat_ratio` that takes in a DataFrame as an argument, that returns a one-decimal percentage value of the proportion of students that slept at least eight hours and passed the exam out of the entire class. Consider a grade of 70 as passing."
   ]
  },
  {
   "cell_type": "code",
   "execution_count": 188,
   "id": "cfedac01-3fcc-4444-9525-a36e05afecd1",
   "metadata": {},
   "outputs": [],
   "source": [
    "# write your function in this cell:\n",
    "def sleepy_goat_ratio(df):\n",
    "    sleepers = df[df['hours_slept'] >= 8]\n",
    "    sleepy_goats = sleepers[sleepers['exam_score'] >= 70]\n",
    "    return len(sleepy_goats) / len(df) * 100\n"
   ]
  },
  {
   "cell_type": "code",
   "execution_count": 189,
   "id": "df37a62e-68fc-4161-9dc3-0ce1276432d4",
   "metadata": {},
   "outputs": [],
   "source": [
    "assert(sleepy_goat_ratio(student_df) == 40.0)"
   ]
  },
  {
   "cell_type": "code",
   "execution_count": null,
   "id": "de95c273",
   "metadata": {},
   "outputs": [],
   "source": []
  }
 ],
 "metadata": {
  "kernelspec": {
   "display_name": "Python 3 (ipykernel)",
   "language": "python",
   "name": "python3"
  },
  "language_info": {
   "codemirror_mode": {
    "name": "ipython",
    "version": 3
   },
   "file_extension": ".py",
   "mimetype": "text/x-python",
   "name": "python",
   "nbconvert_exporter": "python",
   "pygments_lexer": "ipython3",
   "version": "3.9.12"
  }
 },
 "nbformat": 4,
 "nbformat_minor": 5
}
